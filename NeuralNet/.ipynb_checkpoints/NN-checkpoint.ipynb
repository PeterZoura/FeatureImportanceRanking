{
 "cells": [
  {
   "cell_type": "code",
   "execution_count": null,
   "id": "fce97a9d-8831-4dc8-85b2-2b1c7b78033b",
   "metadata": {},
   "outputs": [],
   "source": [
    "import pandas as pd\n",
    "import numpy as np\n",
    "from sklearn import tree\n",
    "from sklearn.model_selection import train_test_split\n",
    "from sklearn.model_selection import cross_val_score\n",
    "from sklearn.tree import DecisionTreeClassifier\n",
    "from matplotlib import pyplot as plt\n",
    "\n",
    "data_raw = pd.read_csv(\"../Data/data2.tsv\", sep=\"\\t\", index_col=0)\n",
    "data_XY = data_raw.drop(columns=data_raw.columns[0:1])\n",
    "data_XY = data_XY.drop(columns=data_XY.columns[-1:])\n",
    "X = data_XY.drop(columns=data_XY.columns[0:1])\n",
    "y = data_XY.drop(columns=data_XY.columns[1:])\n",
    "\n",
    "X_train, X_test, y_train, y_test = train_test_split(X, y, test_size=0.33, random_state=42)\n"
   ]
  },
  {
   "cell_type": "code",
   "execution_count": null,
   "id": "82742094-7210-4117-bdf8-406a20914cac",
   "metadata": {},
   "outputs": [],
   "source": []
  }
 ],
 "metadata": {
  "kernelspec": {
   "display_name": "Python 3 (ipykernel)",
   "language": "python",
   "name": "python3"
  },
  "language_info": {
   "codemirror_mode": {
    "name": "ipython",
    "version": 3
   },
   "file_extension": ".py",
   "mimetype": "text/x-python",
   "name": "python",
   "nbconvert_exporter": "python",
   "pygments_lexer": "ipython3",
   "version": "3.10.12"
  }
 },
 "nbformat": 4,
 "nbformat_minor": 5
}
