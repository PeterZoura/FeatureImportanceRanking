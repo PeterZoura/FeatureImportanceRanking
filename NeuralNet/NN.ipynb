{
 "cells": [
  {
   "cell_type": "markdown",
   "id": "bb7eb0e6",
   "metadata": {},
   "source": [
    "Getting test data and splitting"
   ]
  },
  {
   "cell_type": "code",
   "execution_count": null,
   "id": "fce97a9d-8831-4dc8-85b2-2b1c7b78033b",
   "metadata": {},
   "outputs": [],
   "source": [
    "import numpy as np\n",
    "import pandas as pd\n",
    "from matplotlib import pyplot as plt\n",
    "from sklearn.neural_network import MLPClassifier\n",
    "from sklearn.model_selection import train_test_split\n",
    "import time\n",
    "from sklearn.model_selection import GridSearchCV\n",
    "from sklearn.metrics import classification_report\n",
    "from sklearn.metrics import plot_confusion_matrix\n",
    "from sklearn import preprocessing\n",
    "from sklearn.metrics import accuracy_score\n",
    "from sklearn.inspection import permutation_importance\n",
    "\n",
    "\n",
    "data_raw = pd.read_csv(\"../Data/data2.tsv\", sep=\"\\t\", index_col=0)\n",
    "data_XY = data_raw.drop(columns=data_raw.columns[0:1])\n",
    "data_XY = data_XY.drop(columns=data_XY.columns[-1:])\n",
    "X = data_XY.drop(columns=data_XY.columns[0:1])\n",
    "Y = data_XY.drop(columns=data_XY.columns[1:])\n",
    "\n",
    "X_train, X_test, Y_train, Y_test = train_test_split(\n",
    "    X, Y, test_size=0.33, random_state=42)\n",
    "\n",
    "print(X_train)\n",
    "print(Y_train)\n"
   ]
  },
  {
   "cell_type": "markdown",
   "id": "e65461a4",
   "metadata": {},
   "source": [
    "Training Model"
   ]
  },
  {
   "cell_type": "code",
   "execution_count": null,
   "id": "82742094-7210-4117-bdf8-406a20914cac",
   "metadata": {},
   "outputs": [],
   "source": [
    "# Train the neural network with all features\n",
    "nn = MLPClassifier(max_iter=1000, random_state=1, early_stopping=True, hidden_layer_sizes=(\n",
    "    100, 50, 30), activation='tanh', solver='adam', alpha=0.001, learning_rate='constant')\n",
    "nn.fit(X_train, Y_train)"
   ]
  },
  {
   "cell_type": "markdown",
   "id": "85cdaaeb",
   "metadata": {},
   "source": [
    "Getting Accuracy"
   ]
  },
  {
   "cell_type": "code",
   "execution_count": null,
   "id": "63391295",
   "metadata": {},
   "outputs": [],
   "source": [
    "y_pred = nn.predict(X_test)\n",
    "accuracy = accuracy_score(Y_test, y_pred)\n",
    "print(f'Accuracy: {accuracy}')  # Accuracy: 0.9986666666666667"
   ]
  },
  {
   "cell_type": "markdown",
   "id": "618dede7",
   "metadata": {},
   "source": [
    "Determining sorted feature importance"
   ]
  },
  {
   "cell_type": "code",
   "execution_count": null,
   "id": "1d7a7ba6",
   "metadata": {},
   "outputs": [],
   "source": [
    "\n",
    "# Determine feature importance\n",
    "importance = permutation_importance(nn, X_test, Y_test, n_repeats=30)\n",
    "\n",
    "print(\"Importance:\")\n",
    "print(importance)\n",
    "\n",
    "# Get the feature importances and their corresponding standard deviations\n",
    "importances = importance['importances_mean']\n",
    "std = importance['importances_std']\n",
    "sorted_indices = np.argsort(importances)[::-1]\n"
   ]
  },
  {
   "cell_type": "markdown",
   "id": "43d2de44",
   "metadata": {},
   "source": [
    "Getting top 3 feature importance"
   ]
  },
  {
   "cell_type": "code",
   "execution_count": null,
   "id": "b082f121",
   "metadata": {},
   "outputs": [],
   "source": [
    "# Determine the number of features\n",
    "X_top_features = 3\n",
    "\n",
    "# Get the names of the top X most important features\n",
    "top_X_feature_names = X_train.columns[sorted_indices][:X_top_features]\n",
    "\n",
    "# Print out the names and importance of the top X features\n",
    "for i in range(X_top_features):\n",
    "    print(\n",
    "        f\"{top_X_feature_names[i]}: {importances[sorted_indices[i]]} +/- {std[sorted_indices[i]]}\")\n",
    "\n",
    "# Length: 0.3292969696969697 + /- 0.0036313972820077828\n",
    "# Numbers: 0.10800404040404045 +/- 0.0019204844132649729\n",
    "# Uppers: 0.0786464646464647 +/- 0.001766839628613014"
   ]
  },
  {
   "cell_type": "markdown",
   "id": "96f92ed1",
   "metadata": {},
   "source": [
    "Training model with top 3 features"
   ]
  },
  {
   "cell_type": "code",
   "execution_count": null,
   "id": "2769521a",
   "metadata": {},
   "outputs": [],
   "source": [
    "# Select only the top X features for training and testing\n",
    "X_train_reduced = X_train[top_X_feature_names]\n",
    "X_test_reduced = X_test[top_X_feature_names]\n",
    "\n",
    "# Retrain the neural network with the top X features\n",
    "nn_reduced = MLPClassifier(max_iter=1000, random_state=1, early_stopping=True, hidden_layer_sizes=(100, 50, 30),\n",
    "                           activation='tanh', solver='adam', alpha=0.001, learning_rate='constant')\n",
    "\n",
    "# Fit the model to the reduced training data\n",
    "nn_reduced.fit(X_train_reduced, Y_train.values.ravel())"
   ]
  },
  {
   "cell_type": "markdown",
   "id": "2b7813d0",
   "metadata": {},
   "source": [
    "Getting accuracy of model with top 3 features"
   ]
  },
  {
   "cell_type": "code",
   "execution_count": null,
   "id": "8f2f1b32",
   "metadata": {},
   "outputs": [],
   "source": [
    "# Predict the outputs on the reduced testing data\n",
    "y_pred_reduced = nn_reduced.predict(X_test_reduced)\n",
    "\n",
    "# Evaluate the accuracy\n",
    "accuracy_reduced = accuracy_score(Y_test, y_pred_reduced)\n",
    "print(f'Reduced Model Accuracy: {accuracy_reduced}')\n",
    "# Reduced Model Accuracy: 0.9993939393939394\n"
   ]
  }
 ],
 "metadata": {
  "kernelspec": {
   "display_name": "Python 3.11.1 64-bit",
   "language": "python",
   "name": "python3"
  },
  "language_info": {
   "codemirror_mode": {
    "name": "ipython",
    "version": 3
   },
   "file_extension": ".py",
   "mimetype": "text/x-python",
   "name": "python",
   "nbconvert_exporter": "python",
   "pygments_lexer": "ipython3",
   "version": "3.11.1"
  },
  "vscode": {
   "interpreter": {
    "hash": "3f492242ce55866c77117610ce8634fd961933514cea6a33a2864cadc41adb8c"
   }
  }
 },
 "nbformat": 4,
 "nbformat_minor": 5
}
