{
 "cells": [
  {
   "cell_type": "code",
   "execution_count": 1,
   "metadata": {},
   "outputs": [],
   "source": [
    "import numpy as np\n",
    "import pandas as pd\n",
    "import matplotlib.pyplot as plt\n",
    "from sklearn import tree\n",
    "from sklearn.model_selection import train_test_split\n",
    "from sklearn.model_selection import KFold, GridSearchCV\n",
    "from sklearn.model_selection import cross_val_score\n",
    "from sklearn.ensemble import RandomForestClassifier\n",
    "from sklearn.model_selection import RandomizedSearchCV\n",
    "from sklearn.metrics import accuracy_score, recall_score, roc_auc_score"
   ]
  },
  {
   "cell_type": "code",
   "execution_count": 2,
   "metadata": {},
   "outputs": [],
   "source": [
    "# data = pd.read_csv('D:\\Projects\\PasswordFeaturesComp4730AbrahamlingamDagatiZoura\\data\\data2.tsv', delimiter=\"\\t\", index_col= 0)\n",
    "data = pd.read_csv('../data\\data2.tsv', delimiter=\"\\t\", index_col= 0)"
   ]
  },
  {
   "cell_type": "code",
   "execution_count": 3,
   "metadata": {},
   "outputs": [
    {
     "name": "stdout",
     "output_type": "stream",
     "text": [
      "   Length  #Uppers  #Lowers  #Numbers  #Symbols  SLG_uppers  SLG_lowers  \\\n",
      "0       9        0        2         7         0           0           2   \n",
      "1      16        5        8         3         0           2           3   \n",
      "2      12        0       11         1         0           0          11   \n",
      "3       7        0        6         1         0           0           4   \n",
      "4      10        0        4         6         0           0           4   \n",
      "\n",
      "   SLG_numbers  SLG_symbols  FCT_Up  FCT_Lo  FCT_Nu  FCT_Sy  LCT_Up  LCT_Lo  \\\n",
      "0            7            0       0       0       1       0       0       1   \n",
      "1            2            0       0       1       0       0       1       0   \n",
      "2            1            0       0       1       0       0       0       0   \n",
      "3            1            0       0       1       0       0       0       1   \n",
      "4            6            0       0       1       0       0       0       0   \n",
      "\n",
      "   LCT_Nu  LCT_Sy  #words  ave_size_of_words  palindrome  \n",
      "0       0       0       0               0.00           0  \n",
      "1       0       0       0               0.00           0  \n",
      "2       1       0       4               3.25           0  \n",
      "3       0       0       0               0.00           0  \n",
      "4       1       0       2               3.50           0   \n",
      "\n",
      "---\n",
      "\n",
      "\n",
      "0    1\n",
      "1    2\n",
      "2    1\n",
      "3    0\n",
      "4    1\n",
      "Name: Strength, dtype: int64\n"
     ]
    }
   ],
   "source": [
    "X = data.drop(['Strength','Password'], axis= 1)\n",
    "print(X.head(), \"\\n\\n---\\n\\n\")\n",
    "y = data['Strength']\n",
    "print(y.head())"
   ]
  },
  {
   "cell_type": "code",
   "execution_count": 4,
   "metadata": {},
   "outputs": [],
   "source": [
    "grid_space={'max_depth':[3, 5, 7, 10,None],\n",
    "              'n_estimators':[10, 100, 200, 1000],\n",
    "              'max_features':[1, 3, 5, 7],\n",
    "              'min_samples_leaf':[1, 2, 3],\n",
    "              'min_samples_split':[1, 2, 3],\n",
    "              'max_leaf_nodes':[1, 2, 3, 4, 5]\n",
    "           }"
   ]
  },
  {
   "cell_type": "code",
   "execution_count": 5,
   "metadata": {},
   "outputs": [
    {
     "name": "stderr",
     "output_type": "stream",
     "text": [
      "d:\\Projects\\PasswordFeaturesComp4730AbrahamlingamDagatiZoura\\env\\lib\\site-packages\\sklearn\\model_selection\\_validation.py:425: FitFailedWarning: \n",
      "5040 fits failed out of a total of 10800.\n",
      "The score on these train-test partitions for these parameters will be set to nan.\n",
      "If these failures are not expected, you can try to debug them by setting error_score='raise'.\n",
      "\n",
      "Below are more details about the failures:\n",
      "--------------------------------------------------------------------------------\n",
      "2160 fits failed with the following error:\n",
      "Traceback (most recent call last):\n",
      "  File \"d:\\Projects\\PasswordFeaturesComp4730AbrahamlingamDagatiZoura\\env\\lib\\site-packages\\sklearn\\model_selection\\_validation.py\", line 729, in _fit_and_score\n",
      "    estimator.fit(X_train, y_train, **fit_params)\n",
      "  File \"d:\\Projects\\PasswordFeaturesComp4730AbrahamlingamDagatiZoura\\env\\lib\\site-packages\\sklearn\\base.py\", line 1145, in wrapper\n",
      "    estimator._validate_params()\n",
      "  File \"d:\\Projects\\PasswordFeaturesComp4730AbrahamlingamDagatiZoura\\env\\lib\\site-packages\\sklearn\\base.py\", line 638, in _validate_params\n",
      "    validate_parameter_constraints(\n",
      "  File \"d:\\Projects\\PasswordFeaturesComp4730AbrahamlingamDagatiZoura\\env\\lib\\site-packages\\sklearn\\utils\\_param_validation.py\", line 96, in validate_parameter_constraints\n",
      "    raise InvalidParameterError(\n",
      "sklearn.utils._param_validation.InvalidParameterError: The 'max_leaf_nodes' parameter of RandomForestClassifier must be an int in the range [2, inf) or None. Got 1 instead.\n",
      "\n",
      "--------------------------------------------------------------------------------\n",
      "2880 fits failed with the following error:\n",
      "Traceback (most recent call last):\n",
      "  File \"d:\\Projects\\PasswordFeaturesComp4730AbrahamlingamDagatiZoura\\env\\lib\\site-packages\\sklearn\\model_selection\\_validation.py\", line 729, in _fit_and_score\n",
      "    estimator.fit(X_train, y_train, **fit_params)\n",
      "  File \"d:\\Projects\\PasswordFeaturesComp4730AbrahamlingamDagatiZoura\\env\\lib\\site-packages\\sklearn\\base.py\", line 1145, in wrapper\n",
      "    estimator._validate_params()\n",
      "  File \"d:\\Projects\\PasswordFeaturesComp4730AbrahamlingamDagatiZoura\\env\\lib\\site-packages\\sklearn\\base.py\", line 638, in _validate_params\n",
      "    validate_parameter_constraints(\n",
      "  File \"d:\\Projects\\PasswordFeaturesComp4730AbrahamlingamDagatiZoura\\env\\lib\\site-packages\\sklearn\\utils\\_param_validation.py\", line 96, in validate_parameter_constraints\n",
      "    raise InvalidParameterError(\n",
      "sklearn.utils._param_validation.InvalidParameterError: The 'min_samples_split' parameter of RandomForestClassifier must be an int in the range [2, inf) or a float in the range (0.0, 1.0]. Got 1 instead.\n",
      "\n",
      "  warnings.warn(some_fits_failed_message, FitFailedWarning)\n",
      "d:\\Projects\\PasswordFeaturesComp4730AbrahamlingamDagatiZoura\\env\\lib\\site-packages\\sklearn\\model_selection\\_search.py:979: UserWarning: One or more of the test scores are non-finite: [       nan        nan        nan ... 0.99520004 0.99335976 0.99055998]\n",
      "  warnings.warn(\n"
     ]
    }
   ],
   "source": [
    "X_train, X_test, y_train, y_test = train_test_split(X, y, test_size=0.33)\n",
    "rf = RandomForestClassifier()\n",
    "grid = GridSearchCV(rf,param_grid=grid_space,cv=3,scoring='accuracy')\n",
    "model_grid = grid.fit(X,y)"
   ]
  },
  {
   "cell_type": "code",
   "execution_count": 11,
   "metadata": {},
   "outputs": [
    {
     "name": "stdout",
     "output_type": "stream",
     "text": [
      "Best hyperparameters are: {'max_depth': 5, 'max_features': 5, 'min_samples_leaf': 1, 'min_samples_split': 2, 'n_estimators': 100}\n",
      "Best score is: 1.0\n"
     ]
    }
   ],
   "source": [
    "print('Best hyperparameters are: '+str(model_grid.best_params_))\n",
    "print('Best score is: '+str(model_grid.best_score_))"
   ]
  }
 ],
 "metadata": {
  "kernelspec": {
   "display_name": "env",
   "language": "python",
   "name": "python3"
  },
  "language_info": {
   "codemirror_mode": {
    "name": "ipython",
    "version": 3
   },
   "file_extension": ".py",
   "mimetype": "text/x-python",
   "name": "python",
   "nbconvert_exporter": "python",
   "pygments_lexer": "ipython3",
   "version": "3.10.11"
  }
 },
 "nbformat": 4,
 "nbformat_minor": 2
}
