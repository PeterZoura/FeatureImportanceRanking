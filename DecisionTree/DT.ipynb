{
 "cells": [
  {
   "cell_type": "code",
   "execution_count": 31,
   "id": "b0032c60-6447-4d02-8866-5f50f1207dcc",
   "metadata": {},
   "outputs": [
    {
     "name": "stdout",
     "output_type": "stream",
     "text": [
      "#Uppers has importance 0.3721867155332888\n",
      "#Numbers has importance 0.3270475246909199\n",
      "#Lowers has importance 0.18097189779577538\n",
      "SLG_lowers has importance 0.058774372750927145\n",
      "SLG_symbols has importance 0.047121949339664765\n",
      "#Symbols has importance 0.008998648021187064\n",
      "SLG_numbers has importance 0.004630773769821822\n",
      "SLG_uppers has importance 0.00011045591812665824\n",
      "#words has importance 8.889715822887388e-05\n",
      "ave_size_of_words has importance 6.876502205975541e-05\n",
      "FCT_Up has importance 0.0\n",
      "FCT_Lo has importance 0.0\n",
      "FCT_Nu has importance 0.0\n",
      "FCT_Sy has importance 0.0\n",
      "LCT_Up has importance 0.0\n",
      "LCT_Lo has importance 0.0\n",
      "LCT_Nu has importance 0.0\n",
      "LCT_Sy has importance 0.0\n"
     ]
    }
   ],
   "source": [
    "import numpy as np\n",
    "from sklearn import tree\n",
    "from sklearn.model_selection import train_test_split\n",
    "from sklearn.model_selection import cross_val_score\n",
    "from sklearn.tree import DecisionTreeClassifier\n",
    "from matplotlib import pyplot as plt\n",
    "\n",
    "import pandas as pd\n",
    "data_raw = pd.read_csv(\"../Data/data2.tsv\", sep=\"\\t\", index_col=0)\n",
    "data_XY = data_raw.drop(columns=data_raw.columns[0:1])#drop the first column which contains the password itself\n",
    "data_XY = data_XY.drop(columns=data_XY.columns[-1:])#drop the last column which contains a worthless attribute, t hat is \"most common character\"\n",
    "X = data_XY.drop(columns=data_XY.columns[0:2])\n",
    "y = data_XY.drop(columns=data_XY.columns[1:])\n",
    "\n",
    "r=6\n",
    "\n",
    "X_train, X_test, y_train, y_test = train_test_split(X, y, test_size=0.33, random_state=r)\n",
    "# display(X_train)\n",
    "clf = DecisionTreeClassifier(random_state=r, criterion=\"entropy\")\n",
    "clf.fit(X_train, y_train)\n",
    "# scores = cross_val_score(clf, X, y, cv=100)\n",
    "# score = clf.score(X_test, y_test)\n",
    "# display(score)\n",
    "# display(np.mean(scores))\n",
    "z = {k: v for k, v in sorted(dict(enumerate(clf.feature_importances_, 0)).items(), key=lambda item: item[1], reverse=True)}\n",
    "x = 0\n",
    "for i in z:\n",
    "    print(data_XY.columns[i+2] + \" has importance \" + str(z[i]))\n",
    "    x+=1"
   ]
  },
  {
   "cell_type": "code",
   "execution_count": 24,
   "id": "61ccfdca-2450-4fda-93bd-dced9769c20a",
   "metadata": {},
   "outputs": [],
   "source": [
    "# fig = plt.figure(figsize=(25, 20))\n",
    "# _ = tree.plot_tree(clf, feature_names=X.columns, class_names=[\"weak\", \"normal\", \"strong\"], filled=True)"
   ]
  },
  {
   "cell_type": "code",
   "execution_count": null,
   "metadata": {},
   "outputs": [],
   "source": []
  }
 ],
 "metadata": {
  "kernelspec": {
   "display_name": "Python 3 (ipykernel)",
   "language": "python",
   "name": "python3"
  },
  "language_info": {
   "codemirror_mode": {
    "name": "ipython",
    "version": 3
   },
   "file_extension": ".py",
   "mimetype": "text/x-python",
   "name": "python",
   "nbconvert_exporter": "python",
   "pygments_lexer": "ipython3",
   "version": "3.10.12"
  }
 },
 "nbformat": 4,
 "nbformat_minor": 5
}
